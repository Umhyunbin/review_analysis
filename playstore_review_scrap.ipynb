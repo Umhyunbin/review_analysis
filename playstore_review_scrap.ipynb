{
  "nbformat": 4,
  "nbformat_minor": 0,
  "metadata": {
    "colab": {
      "name": "playstore_review_scrap.ipynb",
      "provenance": [],
      "collapsed_sections": [],
      "authorship_tag": "ABX9TyOzoEGJa5wUzAgoRVl5wl2r",
      "include_colab_link": true
    },
    "kernelspec": {
      "name": "python3",
      "display_name": "Python 3"
    },
    "language_info": {
      "name": "python"
    }
  },
  "cells": [
    {
      "cell_type": "markdown",
      "metadata": {
        "id": "view-in-github",
        "colab_type": "text"
      },
      "source": [
        "<a href=\"https://colab.research.google.com/github/Umhyunbin/review_analysis/blob/master/playstore_review_scrap.ipynb\" target=\"_parent\"><img src=\"https://colab.research.google.com/assets/colab-badge.svg\" alt=\"Open In Colab\"/></a>"
      ]
    },
    {
      "cell_type": "code",
      "execution_count": null,
      "metadata": {
        "id": "d3hnuM8Sn-R2"
      },
      "outputs": [],
      "source": [
        "import pandas as pd\n",
        "import numpy as np\n",
        "# for scraping app info and reviews from Google Play\n",
        "from google_play_scraper import app, Sort, reviews_all\n",
        "from collections import Counter"
      ]
    },
    {
      "cell_type": "code",
      "source": [
        "## Get app names and app IDs\n",
        "app_names = input(\"원하는 앱 이름을 입력하세요: \")\n",
        "app_ids = input(\"앱 아이디를 입력하세요(url에서 확인 가능합니다): \")"
      ],
      "metadata": {
        "id": "Xy26IC2w6YSm"
      },
      "execution_count": null,
      "outputs": []
    },
    {
      "cell_type": "code",
      "source": [
        "# App all reviews\n",
        "\n",
        "\"\"\"\n",
        "first parameter -> app_ids(in url)\n",
        "lang, country -> change for korean\n",
        "\"\"\"\n",
        "result_all = pd.DataFrame(columns = ['리뷰', '평점', '공감수', '작성일자'])\n",
        "for i in range(1, 3):\n",
        "    result = reviews_all(\n",
        "        app_ids,\n",
        "        sleep_milliseconds=0, # defaults to 0\n",
        "        lang='ko', # defaults to 'en'\n",
        "        country='kr', # defaults to 'us'\n",
        "        sort=Sort.MOST_RELEVANT, # defaults to Sort.MOST_RELEVANT\n",
        "        filter_score_with = i # defaults to None(means all score) -> only scrap negative review\n",
        "    )\n",
        "\n",
        "    #df_review = pd.DataFrame(result, columns = ['리뷰시간', '리뷰', '답변시간', '답변', '리뷰버전', '리뷰ID', '별점', '좋아요', '유저이미지', '유저이름'])\n",
        "    df_review = pd.DataFrame(result)\n",
        "    df_review.drop(['reviewId', 'userName', 'userImage', 'reviewCreatedVersion', 'replyContent', 'repliedAt'], axis = 1, inplace = True)\n",
        "    df_review.columns = ['리뷰', '평점', '공감수', '작성일자']\n",
        "\n",
        "    result_all = pd.concat([result_all, df_review])\n",
        "\n",
        "'''\n",
        "print(result_all.head())\n",
        "print(result_all.info())\n",
        "print(result_all.describe())\n",
        "print(result_all.isna().sum())\n",
        "print(result_all[result_all['리뷰'].isna()])\n",
        "'''\n",
        "\n",
        "# not exist review -> drop \n",
        "result_all.dropna(axis = 0,inplace = True)\n",
        "\n",
        "# want to show 5 years\n",
        "result_all['년도'] = result_all['작성일자'].apply(lambda x: x.year)\n",
        "result_all = result_all[result_all['년도'] > 2017]\n",
        "result_all = result_all.astype({'평점' : 'int', '공감수' : 'int'})"
      ],
      "metadata": {
        "id": "Lw_zHEkw6dWz"
      },
      "execution_count": null,
      "outputs": []
    },
    {
      "cell_type": "code",
      "source": [
        "from google.colab import drive\n",
        "drive.mount('/content/drive')"
      ],
      "metadata": {
        "id": "XTacV_uOdguH"
      },
      "execution_count": null,
      "outputs": []
    },
    {
      "cell_type": "code",
      "source": [
        "from konlpy.tag import Okt\n",
        "from collections import defaultdict\n",
        "\n",
        "okt = Okt()\n",
        "# ranks.nl -> korean stopword\n",
        "s = pd.read_csv(\"/content/drive/MyDrive/리뷰분석/불용어사전.csv\")\n",
        "\n",
        "stop_words = set(str(s.columns).split())\n",
        "# {year1 : [word1, ...]}\n",
        "li_nouns = defaultdict(list)\n",
        "\n",
        "for i in range(len(result_all)):\n",
        "    review = result_all.iloc[i, 0]\n",
        "    year = result_all.iloc[i, 4]\n",
        "    # normalize\n",
        "    review_normalized = okt.normalize(review)\n",
        "    line_nouns = okt.nouns(review_normalized)\n",
        "    li_nouns[year] += [noun for noun in line_nouns if len(noun) > 1 and noun not in stop_words]\n",
        "\n",
        "count_nouns = []\n",
        "for y in range(2018, 2023):\n",
        "    # counter -> {word1 : freq1, ...}\n",
        "    counter = dict(Counter(li_nouns[y]))\n",
        "    # count_nouns -> [(word1, freq1, year1), ...]\n",
        "    count_nouns += list(zip(list(counter.keys()), list(counter.values()), [y] * len(counter)))\n",
        "\n",
        "count_nouns = list(map(list, count_nouns))\n",
        "# sort by word, year\n",
        "count_nouns_sorted = sorted(count_nouns, key = lambda x: (x[0], x[2]))\n",
        "result_df = pd.DataFrame(count_nouns_sorted, columns = ['단어', '빈도', '년도'])\n",
        "result_df.to_csv('/content/drive/MyDrive/리뷰분석/년도별_단어_빈도.csv', index = False)"
      ],
      "metadata": {
        "id": "xO2wiNpcaCM6"
      },
      "execution_count": null,
      "outputs": []
    }
  ]
}